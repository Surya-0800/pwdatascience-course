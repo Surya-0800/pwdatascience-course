{
 "cells": [
  {
   "cell_type": "code",
   "execution_count": 1,
   "id": "5b5bda4f",
   "metadata": {},
   "outputs": [],
   "source": [
    "class Vehicle:\n",
    "    def __init__(self, name_of_vehicle, max_speed, average_of_vehicle):\n",
    "        self.name_of_vehicle = name_of_vehicle\n",
    "        self.max_speed = max_speed\n",
    "        self.average_of_vehicle = average_of_vehicle\n",
    "        \n",
    "    def seating_capacity(self, capacity):\n",
    "        return f\"{self.name_of_vehicle} has a seating capacity of {capacity} people.\"\n",
    "\n"
   ]
  },
  {
   "cell_type": "code",
   "execution_count": 3,
   "id": "ccaa3755",
   "metadata": {},
   "outputs": [],
   "source": [
    "car = Vehicle(\"Tesla\", 209, 30)"
   ]
  },
  {
   "cell_type": "code",
   "execution_count": 4,
   "id": "ba260ab0",
   "metadata": {},
   "outputs": [
    {
     "name": "stdout",
     "output_type": "stream",
     "text": [
      "Tesla\n"
     ]
    }
   ],
   "source": [
    "print(car.name_of_vehicle)"
   ]
  },
  {
   "cell_type": "code",
   "execution_count": 5,
   "id": "983b97d6",
   "metadata": {},
   "outputs": [
    {
     "name": "stdout",
     "output_type": "stream",
     "text": [
      "209\n"
     ]
    }
   ],
   "source": [
    "print(car.max_speed)"
   ]
  },
  {
   "cell_type": "code",
   "execution_count": 8,
   "id": "4f5bd054",
   "metadata": {},
   "outputs": [],
   "source": [
    "class Vehicle:\n",
    "    def __init__(self, name_of_vehicle, max_speed, average_of_vehicle):\n",
    "        self.name_of_vehicle = name_of_vehicle\n",
    "        self.max_speed = max_speed\n",
    "        self.average_of_vehicle = average_of_vehicle\n",
    "        \n",
    "    def seating_capacity(self, capacity):\n",
    "        return f\"{self.name_of_vehicle} has a seating capacity of {capacity} people.\""
   ]
  },
  {
   "cell_type": "code",
   "execution_count": 10,
   "id": "ed8eda9f",
   "metadata": {},
   "outputs": [
    {
     "name": "stdout",
     "output_type": "stream",
     "text": [
      "Tesla has a seating capacity of 4 people.\n"
     ]
    }
   ],
   "source": [
    "car = Vehicle(\"Tesla\", 200, 30)\n",
    "print(car.seating_capacity(4))  "
   ]
  },
  {
   "cell_type": "code",
   "execution_count": 27,
   "id": "21b6f3d5",
   "metadata": {},
   "outputs": [],
   "source": [
    "\n"
   ]
  },
  {
   "cell_type": "code",
   "execution_count": null,
   "id": "a085cc8d",
   "metadata": {},
   "outputs": [],
   "source": [
    "  "
   ]
  },
  {
   "cell_type": "code",
   "execution_count": 29,
   "id": "7260decd",
   "metadata": {},
   "outputs": [],
   "source": [
    "'''Multiple inheritance is a feature in object-oriented programming where a class can inherit characteristics and behaviors from more than one base class.'''\n",
    "\n",
    "class Developer:\n",
    "    def developer(self):\n",
    "        print(\"These are developers\")\n",
    "\n",
    "class QA:\n",
    "    def qa(self):\n",
    "        print(\"This is QA Team\")\n",
    "        \n",
    "class Manager(Developer,QA):\n",
    "    def manager(self):\n",
    "        print(\"Hi Iam the manager\")"
   ]
  },
  {
   "cell_type": "code",
   "execution_count": 30,
   "id": "a056517c",
   "metadata": {},
   "outputs": [],
   "source": [
    "Manager = Manager()"
   ]
  },
  {
   "cell_type": "code",
   "execution_count": 31,
   "id": "5b467ae3",
   "metadata": {},
   "outputs": [
    {
     "name": "stdout",
     "output_type": "stream",
     "text": [
      "Hi Iam the manager\n",
      "This is QA Team\n"
     ]
    }
   ],
   "source": [
    "Manager.manager()\n",
    "Manager.qa()"
   ]
  },
  {
   "cell_type": "code",
   "execution_count": 37,
   "id": "992b50bf",
   "metadata": {},
   "outputs": [],
   "source": [
    "\n",
    "''' getters and setters are methods used to access and modify the values of class attributes, respectively. They are often used to enforce encapsulation and provide controlled access to the class attributes.'''\n",
    "\n",
    "class Brand:\n",
    "    def __init__(self,brand):\n",
    "        self._brand = brand\n",
    "        \n",
    "    def get_brand(self):\n",
    "        return self._brand\n",
    "    def set_brand(self,brand):\n",
    "        self._brand = brand\n",
    "        return self._brand\n",
    "        "
   ]
  },
  {
   "cell_type": "code",
   "execution_count": 38,
   "id": "060e7b34",
   "metadata": {},
   "outputs": [
    {
     "data": {
      "text/plain": [
       "'Fogg'"
      ]
     },
     "execution_count": 38,
     "metadata": {},
     "output_type": "execute_result"
    }
   ],
   "source": [
    "brand = Brand(\"Fogg\")\n",
    "brand.get_brand()"
   ]
  },
  {
   "cell_type": "code",
   "execution_count": 39,
   "id": "64e63f1b",
   "metadata": {},
   "outputs": [
    {
     "data": {
      "text/plain": [
       "'Villan'"
      ]
     },
     "execution_count": 39,
     "metadata": {},
     "output_type": "execute_result"
    }
   ],
   "source": [
    "brand.set_brand(\"Villan\")"
   ]
  },
  {
   "cell_type": "code",
   "execution_count": 42,
   "id": "7e51dee8",
   "metadata": {},
   "outputs": [
    {
     "name": "stdout",
     "output_type": "stream",
     "text": [
      "The animal speaks\n",
      "Meowwww\n",
      "Wooffff\n"
     ]
    }
   ],
   "source": [
    "'''\n",
    "Method overriding is a feature in object-oriented programming where a subclass provides a different implementation of a method that is already defined in its superclass. This allows the subclass to override the behavior of the method inherited from the superclass'''\n",
    "\n",
    "class Animal:\n",
    "    def speak(self):\n",
    "        print(\"The animal speaks\")\n",
    "\n",
    "class Cat(Animal):\n",
    "    def speak(self):\n",
    "        print(\"Meowwww\")\n",
    "\n",
    "class Dog(Animal):\n",
    "    def speak(self):\n",
    "        print(\"Wooffff\")\n",
    "\n",
    "animals = [Animal(), Cat(), Dog()]\n",
    "\n",
    "for animal in animals:\n",
    "    animal.speak()\n"
   ]
  },
  {
   "cell_type": "code",
   "execution_count": null,
   "id": "8020828b",
   "metadata": {},
   "outputs": [],
   "source": []
  }
 ],
 "metadata": {
  "kernelspec": {
   "display_name": "Python 3 (ipykernel)",
   "language": "python",
   "name": "python3"
  },
  "language_info": {
   "codemirror_mode": {
    "name": "ipython",
    "version": 3
   },
   "file_extension": ".py",
   "mimetype": "text/x-python",
   "name": "python",
   "nbconvert_exporter": "python",
   "pygments_lexer": "ipython3",
   "version": "3.9.12"
  }
 },
 "nbformat": 4,
 "nbformat_minor": 5
}
